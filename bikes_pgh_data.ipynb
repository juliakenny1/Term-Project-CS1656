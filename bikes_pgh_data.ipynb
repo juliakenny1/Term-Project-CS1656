{
  "cells": [
    {
      "cell_type": "markdown",
      "metadata": {
        "id": "L6lR4KtBtoxq"
      },
      "source": [
        "# CS 1656 – Introduction to Data Science \n",
        "\n",
        "## Instructor: Xiaowei Jia\n",
        "### Teaching Assistants: Evangelos Karageorgos, Sonal Gupta\n",
        "\n",
        "\n",
        "## Term Project \n",
        "\n",
        "**Released: April 7, 2022**\n",
        "\n",
        "**Due: April 26, 2022**"
      ]
    },
    {
      "cell_type": "markdown",
      "metadata": {
        "id": "rZDE95Y0toxu"
      },
      "source": [
        "### Goal\n",
        "The goal of this project is to expose you with a real data science problem, looking at the end-to-end pipeline. \n",
        "\n",
        "### What to do \n",
        "You are asked to write a Python Jupyter notebook, called `bikes_pgh_data.ipynb` that will:\n",
        "* [Task 1] access historical bike rental data for 2021 from HealthyRidePGH and summarize the rental data  \n",
        "* [Task 2] create graphs to show the popularity of the different rental stations, given filter conditions  \n",
        "* [Task 3] cluster the data to group similar stations together, using a variety of clustering functions and visualize the results of the clustering.  \n",
        "\n",
        "**Your program should not take more than 15 minutes to run**\n",
        "\n",
        "### Jupyter Notebook Rules\n",
        "This skeleton is provided for you to complete the project. Please add your code in the code cells below each Task. Feel free to add cells as needed. Do not remove existing cells."
      ]
    },
    {
      "cell_type": "code",
      "execution_count": null,
      "metadata": {
        "collapsed": true,
        "id": "0bHzJ7M3toxv"
      },
      "outputs": [],
      "source": [
        "import matplotlib.pyplot as plt\n",
        "import pandas as pd\n",
        "import glob \n",
        "import math\n",
        "import numpy as np\n",
        "from datetime import *\n",
        "from sklearn.neighbors import NearestNeighbors\n",
        "from sklearn.cluster import KMeans, DBSCAN\n",
        "from sklearn import cluster\n",
        "# Feel free to add here any other libraries as specified in the project description"
      ]
    },
    {
      "cell_type": "markdown",
      "metadata": {
        "id": "Wbhpz43stoxw"
      },
      "source": [
        "For the sake of interactive display in Jupyter, we will enable matplotlib inline."
      ]
    },
    {
      "cell_type": "code",
      "execution_count": null,
      "metadata": {
        "collapsed": true,
        "id": "oKGfpAmztoxx"
      },
      "outputs": [],
      "source": [
        "%matplotlib inline"
      ]
    },
    {
      "cell_type": "markdown",
      "metadata": {
        "id": "YcnIlWdAtoxx"
      },
      "source": [
        "### [Task 0] Warming Up\n",
        "Task 0 is for testing. It is used to ensure that this Jupyter Notebook skeleton works on both your machines and our machine. Please run the following code to see if you can see a line plot. The line plot is the basic plot that we have seen in Recitation2. "
      ]
    },
    {
      "cell_type": "code",
      "execution_count": null,
      "metadata": {
        "colab": {
          "base_uri": "https://localhost:8080/",
          "height": 265
        },
        "id": "B85XRsI6toxy",
        "outputId": "f8c77742-1973-4a7c-c83c-bcae62dfcb9b",
        "scrolled": true
      },
      "outputs": [
        {
          "output_type": "display_data",
          "data": {
            "text/plain": [
              "<Figure size 432x288 with 1 Axes>"
            ],
            "image/png": "[encoded data removed]"
          },
          "metadata": {
            "needs_background": "light"
          }
        }
      ],
      "source": [
        "import datetime\n",
        "from pandas.plotting import register_matplotlib_converters\n",
        "register_matplotlib_converters()\n",
        "df = pd.read_csv('KPIT_Aug17.csv', sep=',', engine='python', parse_dates=['EST'])\n",
        "p1 = plt.plot(df['EST'],df['MeanDew PointF'])\n",
        "p2 = plt.plot(df['EST'],df['Mean TemperatureF'])\n",
        "plt.legend([p1[0],p2[0]], ['Mean Dew Point', 'Mean Temperature'])\n",
        "\n",
        "plt.show()"
      ]
    },
    {
      "cell_type": "markdown",
      "metadata": {
        "id": "bCZIGbjstoxy"
      },
      "source": [
        "--- \n",
        "Add your code below this line\n",
        "\n",
        "---\n",
        "### Task 1"
      ]
    },
    {
      "cell_type": "markdown",
      "metadata": {
        "id": "AN4219v4toxz"
      },
      "source": [
        "In this task you will need to access historical bike rental data for 2021 from HealthyRidePGH and summarize the rental data."
      ]
    },
    {
      "cell_type": "markdown",
      "metadata": {
        "id": "v6tlTwRntoxz"
      },
      "source": [
        "### Task 1.1"
      ]
    },
    {
      "cell_type": "code",
      "execution_count": null,
      "metadata": {
        "colab": {
          "base_uri": "https://localhost:8080/",
          "height": 676
        },
        "id": "0ov1jIp0toxz",
        "outputId": "6ab6c45e-9463-4d34-f864-f978175ec0ea"
      },
      "outputs": [
        {
          "output_type": "execute_result",
          "data": {
            "text/plain": [
              "           Day  StationID  fromCNT  toCNT  rebalCNT\n",
              "0   2021-01-01     1002.0      1.0    1.0       0.0\n",
              "1   2021-01-01     1010.0      1.0    0.0       0.0\n",
              "2   2021-01-01     1017.0      0.0    2.0       0.0\n",
              "3   2021-01-01     1024.0      1.0    1.0       0.0\n",
              "4   2021-01-01     1028.0      1.0    1.0       0.0\n",
              "5   2021-01-01     1032.0      1.0    0.0       0.0\n",
              "6   2021-01-01     1039.0      0.0    1.0       0.0\n",
              "7   2021-01-01     1059.0      1.0    1.0       0.0\n",
              "8   2021-01-01     1062.0      2.0    2.0       0.0\n",
              "9   2021-01-01     1094.0      2.0    0.0       0.0\n",
              "10  2021-01-01    49301.0      1.0    2.0       0.0\n",
              "11  2021-01-01    49641.0      0.0    1.0       0.0\n",
              "12  2021-01-01    49671.0      1.0    0.0       0.0\n",
              "13  2021-01-01    49951.0      1.0    0.0       0.0\n",
              "14  2021-01-02     1000.0      1.0    0.0       0.0\n",
              "15  2021-01-02     1001.0      2.0    3.0       0.0\n",
              "16  2021-01-02     1002.0      3.0    1.0       0.0\n",
              "17  2021-01-02     1003.0      2.0    0.0       0.0\n",
              "18  2021-01-02     1010.0      1.0    2.0       0.0\n",
              "19  2021-01-02     1012.0     14.0   15.0       0.0"
            ],
            "text/html": [
              "\n",
              "  <div id=\"df-225917e5-1fd1-4fed-9c74-08d43c943ba9\">\n",
              "    <div class=\"colab-df-container\">\n",
              "      <div>\n",
              "<style scoped>\n",
              "    .dataframe tbody tr th:only-of-type {\n",
              "        vertical-align: middle;\n",
              "    }\n",
              "\n",
              "    .dataframe tbody tr th {\n",
              "        vertical-align: top;\n",
              "    }\n",
              "\n",
              "    .dataframe thead th {\n",
              "        text-align: right;\n",
              "    }\n",
              "</style>\n",
              "<table border=\"1\" class=\"dataframe\">\n",
              "  <thead>\n",
              "    <tr style=\"text-align: right;\">\n",
              "      <th></th>\n",
              "      <th>Day</th>\n",
              "      <th>StationID</th>\n",
              "      <th>fromCNT</th>\n",
              "      <th>toCNT</th>\n",
              "      <th>rebalCNT</th>\n",
              "    </tr>\n",
              "  </thead>\n",
              "  <tbody>\n",
              "    <tr>\n",
              "      <th>0</th>\n",
              "      <td>2021-01-01</td>\n",
              "      <td>1002.0</td>\n",
              "      <td>1.0</td>\n",
              "      <td>1.0</td>\n",
              "      <td>0.0</td>\n",
              "    </tr>\n",
              "    <tr>\n",
              "      <th>1</th>\n",
              "      <td>2021-01-01</td>\n",
              "      <td>1010.0</td>\n",
              "      <td>1.0</td>\n",
              "      <td>0.0</td>\n",
              "      <td>0.0</td>\n",
              "    </tr>\n",
              "    <tr>\n",
              "      <th>2</th>\n",
              "      <td>2021-01-01</td>\n",
              "      <td>1017.0</td>\n",
              "      <td>0.0</td>\n",
              "      <td>2.0</td>\n",
              "      <td>0.0</td>\n",
              "    </tr>\n",
              "    <tr>\n",
              "      <th>3</th>\n",
              "      <td>2021-01-01</td>\n",
              "      <td>1024.0</td>\n",
              "      <td>1.0</td>\n",
              "      <td>1.0</td>\n",
              "      <td>0.0</td>\n",
              "    </tr>\n",
              "    <tr>\n",
              "      <th>4</th>\n",
              "      <td>2021-01-01</td>\n",
              "      <td>1028.0</td>\n",
              "      <td>1.0</td>\n",
              "      <td>1.0</td>\n",
              "      <td>0.0</td>\n",
              "    </tr>\n",
              "    <tr>\n",
              "      <th>5</th>\n",
              "      <td>2021-01-01</td>\n",
              "      <td>1032.0</td>\n",
              "      <td>1.0</td>\n",
              "      <td>0.0</td>\n",
              "      <td>0.0</td>\n",
              "    </tr>\n",
              "    <tr>\n",
              "      <th>6</th>\n",
              "      <td>2021-01-01</td>\n",
              "      <td>1039.0</td>\n",
              "      <td>0.0</td>\n",
              "      <td>1.0</td>\n",
              "      <td>0.0</td>\n",
              "    </tr>\n",
              "    <tr>\n",
              "      <th>7</th>\n",
              "      <td>2021-01-01</td>\n",
              "      <td>1059.0</td>\n",
              "      <td>1.0</td>\n",
              "      <td>1.0</td>\n",
              "      <td>0.0</td>\n",
              "    </tr>\n",
              "    <tr>\n",
              "      <th>8</th>\n",
              "      <td>2021-01-01</td>\n",
              "      <td>1062.0</td>\n",
              "      <td>2.0</td>\n",
              "      <td>2.0</td>\n",
              "      <td>0.0</td>\n",
              "    </tr>\n",
              "    <tr>\n",
              "      <th>9</th>\n",
              "      <td>2021-01-01</td>\n",
              "      <td>1094.0</td>\n",
              "      <td>2.0</td>\n",
              "      <td>0.0</td>\n",
              "      <td>0.0</td>\n",
              "    </tr>\n",
              "    <tr>\n",
              "      <th>10</th>\n",
              "      <td>2021-01-01</td>\n",
              "      <td>49301.0</td>\n",
              "      <td>1.0</td>\n",
              "      <td>2.0</td>\n",
              "      <td>0.0</td>\n",
              "    </tr>\n",
              "    <tr>\n",
              "      <th>11</th>\n",
              "      <td>2021-01-01</td>\n",
              "      <td>49641.0</td>\n",
              "      <td>0.0</td>\n",
              "      <td>1.0</td>\n",
              "      <td>0.0</td>\n",
              "    </tr>\n",
              "    <tr>\n",
              "      <th>12</th>\n",
              "      <td>2021-01-01</td>\n",
              "      <td>49671.0</td>\n",
              "      <td>1.0</td>\n",
              "      <td>0.0</td>\n",
              "      <td>0.0</td>\n",
              "    </tr>\n",
              "    <tr>\n",
              "      <th>13</th>\n",
              "      <td>2021-01-01</td>\n",
              "      <td>49951.0</td>\n",
              "      <td>1.0</td>\n",
              "      <td>0.0</td>\n",
              "      <td>0.0</td>\n",
              "    </tr>\n",
              "    <tr>\n",
              "      <th>14</th>\n",
              "      <td>2021-01-02</td>\n",
              "      <td>1000.0</td>\n",
              "      <td>1.0</td>\n",
              "      <td>0.0</td>\n",
              "      <td>0.0</td>\n",
              "    </tr>\n",
              "    <tr>\n",
              "      <th>15</th>\n",
              "      <td>2021-01-02</td>\n",
              "      <td>1001.0</td>\n",
              "      <td>2.0</td>\n",
              "      <td>3.0</td>\n",
              "      <td>0.0</td>\n",
              "    </tr>\n",
              "    <tr>\n",
              "      <th>16</th>\n",
              "      <td>2021-01-02</td>\n",
              "      <td>1002.0</td>\n",
              "      <td>3.0</td>\n",
              "      <td>1.0</td>\n",
              "      <td>0.0</td>\n",
              "    </tr>\n",
              "    <tr>\n",
              "      <th>17</th>\n",
              "      <td>2021-01-02</td>\n",
              "      <td>1003.0</td>\n",
              "      <td>2.0</td>\n",
              "      <td>0.0</td>\n",
              "      <td>0.0</td>\n",
              "    </tr>\n",
              "    <tr>\n",
              "      <th>18</th>\n",
              "      <td>2021-01-02</td>\n",
              "      <td>1010.0</td>\n",
              "      <td>1.0</td>\n",
              "      <td>2.0</td>\n",
              "      <td>0.0</td>\n",
              "    </tr>\n",
              "    <tr>\n",
              "      <th>19</th>\n",
              "      <td>2021-01-02</td>\n",
              "      <td>1012.0</td>\n",
              "      <td>14.0</td>\n",
              "      <td>15.0</td>\n",
              "      <td>0.0</td>\n",
              "    </tr>\n",
              "  </tbody>\n",
              "</table>\n",
              "</div>\n",
              "      <button class=\"colab-df-convert\" onclick=\"convertToInteractive('df-225917e5-1fd1-4fed-9c74-08d43c943ba9')\"\n",
              "              title=\"Convert this dataframe to an interactive table.\"\n",
              "              style=\"display:none;\">\n",
              "        \n",
              "  <svg xmlns=\"http://www.w3.org/2000/svg\" height=\"24px\"viewBox=\"0 0 24 24\"\n",
              "       width=\"24px\">\n",
              "    <path d=\"M0 0h24v24H0V0z\" fill=\"none\"/>\n",
              "    <path d=\"M18.56 5.44l.94 2.06.94-2.06 2.06-.94-2.06-.94-.94-2.06-.94 2.06-2.06.94zm-11 1L8.5 8.5l.94-2.06 2.06-.94-2.06-.94L8.5 2.5l-.94 2.06-2.06.94zm10 10l.94 2.06.94-2.06 2.06-.94-2.06-.94-.94-2.06-.94 2.06-2.06.94z\"/><path d=\"M17.41 7.96l-1.37-1.37c-.4-.4-.92-.59-1.43-.59-.52 0-1.04.2-1.43.59L10.3 9.45l-7.72 7.72c-.78.78-.78 2.05 0 2.83L4 21.41c.39.39.9.59 1.41.59.51 0 1.02-.2 1.41-.59l7.78-7.78 2.81-2.81c.8-.78.8-2.07 0-2.86zM5.41 20L4 18.59l7.72-7.72 1.47 1.35L5.41 20z\"/>\n",
              "  </svg>\n",
              "      </button>\n",
              "      \n",
              "  <style>\n",
              "    .colab-df-container {\n",
              "      display:flex;\n",
              "      flex-wrap:wrap;\n",
              "      gap: 12px;\n",
              "    }\n",
              "\n",
              "    .colab-df-convert {\n",
              "      background-color: #E8F0FE;\n",
              "      border: none;\n",
              "      border-radius: 50%;\n",
              "      cursor: pointer;\n",
              "      display: none;\n",
              "      fill: #1967D2;\n",
              "      height: 32px;\n",
              "      padding: 0 0 0 0;\n",
              "      width: 32px;\n",
              "    }\n",
              "\n",
              "    .colab-df-convert:hover {\n",
              "      background-color: #E2EBFA;\n",
              "      box-shadow: 0px 1px 2px rgba(60, 64, 67, 0.3), 0px 1px 3px 1px rgba(60, 64, 67, 0.15);\n",
              "      fill: #174EA6;\n",
              "    }\n",
              "\n",
              "    [theme=dark] .colab-df-convert {\n",
              "      background-color: #3B4455;\n",
              "      fill: #D2E3FC;\n",
              "    }\n",
              "\n",
              "    [theme=dark] .colab-df-convert:hover {\n",
              "      background-color: #434B5C;\n",
              "      box-shadow: 0px 1px 3px 1px rgba(0, 0, 0, 0.15);\n",
              "      filter: drop-shadow(0px 1px 2px rgba(0, 0, 0, 0.3));\n",
              "      fill: #FFFFFF;\n",
              "    }\n",
              "  </style>\n",
              "\n",
              "      <script>\n",
              "        const buttonEl =\n",
              "          document.querySelector('#df-225917e5-1fd1-4fed-9c74-08d43c943ba9 button.colab-df-convert');\n",
              "        buttonEl.style.display =\n",
              "          google.colab.kernel.accessAllowed ? 'block' : 'none';\n",
              "\n",
              "        async function convertToInteractive(key) {\n",
              "          const element = document.querySelector('#df-225917e5-1fd1-4fed-9c74-08d43c943ba9');\n",
              "          const dataTable =\n",
              "            await google.colab.kernel.invokeFunction('convertToInteractive',\n",
              "                                                     [key], {});\n",
              "          if (!dataTable) return;\n",
              "\n",
              "          const docLinkHtml = 'Like what you see? Visit the ' +\n",
              "            '<a target=\"_blank\" href=https://colab.research.google.com/notebooks/data_table.ipynb>data table notebook</a>'\n",
              "            + ' to learn more about interactive tables.';\n",
              "          element.innerHTML = '';\n",
              "          dataTable['output_type'] = 'display_data';\n",
              "          await google.colab.output.renderOutput(dataTable, element);\n",
              "          const docLink = document.createElement('div');\n",
              "          docLink.innerHTML = docLinkHtml;\n",
              "          element.appendChild(docLink);\n",
              "        }\n",
              "      </script>\n",
              "    </div>\n",
              "  </div>\n",
              "  "
            ]
          },
          "metadata": {},
          "execution_count": 4
        }
      ],
      "source": [
        "from pandas._libs.algos import diff_2d\n",
        "def getMonth(x):\n",
        "    return x.month\n",
        "def getDay(x):\n",
        "    return x.day\n",
        "def getDate(x):\n",
        "    x = x.split()\n",
        "    date = pd.Timestamp(x[0])\n",
        "    return date.date()\n",
        "def getDateNotTime(x):\n",
        "    return x.date()\n",
        "def getHour(x):\n",
        "    x = x.split()\n",
        "    hour = pd.Timestamp(x[1])\n",
        "    return hour.hour\n",
        "def timetodate(x):\n",
        "    date = pd.Timestamp(x)\n",
        "    return date\n",
        "\n",
        "def calcRebalance(curr):\n",
        "    row = curr.name\n",
        "    if row != 0: \n",
        "        prev = rebal.iloc[row-1]\n",
        "        if curr['From station id'] != 0 and prev['To station id'] != 0 and curr['Bikeid'] == prev['Bikeid'] and curr['From station id'] != prev['To station id']:\n",
        "            return 1\n",
        "\n",
        "    return 0\n",
        "\n",
        "df = pd.concat([pd.read_csv(f) for f in glob.glob('HealthyRideRentals2021-*.csv')], ignore_index = True)\n",
        "\n",
        "# rebalCNT\n",
        "rebal = df[['Trip id', 'Starttime', 'Bikeid', 'From station id', 'To station id']].copy()\n",
        "rebal['Startdate'] = pd.to_datetime(rebal['Starttime']).dt.date\n",
        "rebal = rebal.sort_values(by=['Bikeid', 'Startdate'])\n",
        "rebal = rebal[rebal.groupby(['Bikeid'])['Bikeid'].transform('size') > 1]\n",
        "rebal = rebal.reset_index(drop=True)\n",
        "rebal['Rebal'] = rebal.apply(calcRebalance, axis=1)\n",
        "\n",
        "# fromCNT\n",
        "fro = rebal[['Startdate', 'Bikeid', 'From station id']].copy()\n",
        "\n",
        "fro = fro[fro.groupby(['Bikeid'])['Bikeid'].transform('size') > 1]\n",
        "fro = fro.reset_index(drop=True)\n",
        "\n",
        "# toCNT\n",
        "to = rebal[['Startdate', 'Bikeid', 'To station id']].copy()\n",
        "to = to[to.groupby(['Bikeid'])['Bikeid'].transform('size') > 1]\n",
        "to = to.reset_index(drop=True)\n",
        "\n",
        "rebalp = pd.pivot_table(rebal,index=['Startdate', 'From station id'], values=['Rebal'], aggfunc='sum')\n",
        "rebalCNT = rebalp.reset_index()\n",
        "rebalCNT.columns = ['Day', 'StationID', 'rebalCNT']\n",
        "\n",
        "fromp = pd.pivot_table(fro,index=['Startdate', 'From station id'], values=['From station id'],aggfunc=lambda x: len(x))\n",
        "fromCNT = fromp.reset_index()\n",
        "fromCNT.columns = ['Day', 'StationID', 'fromCNT']\n",
        "\n",
        "top = pd.pivot_table(to,index=['Startdate', 'To station id'], values=['To station id'],aggfunc=lambda x: len(x))\n",
        "toCNT = top.reset_index()\n",
        "toCNT.columns = ['Day', 'StationID', 'toCNT']\n",
        "\n",
        "rebalCNT = rebalCNT.sort_values(by=['Day', 'StationID'])\n",
        "fromCNT = fromCNT.sort_values(by=['Day', 'StationID'])\n",
        "toCNT = toCNT.sort_values(by=['Day', 'StationID'])\n",
        "\n",
        "fT = fromCNT.merge(toCNT, how='outer', on=['Day', 'StationID'])\n",
        "fT = fT.fillna(0)\n",
        "fT = fT.sort_values(by=['Day', 'StationID'])\n",
        "\n",
        "\n",
        "df_final = pd.merge(fT, rebalCNT, how='outer', on=['Day', 'StationID'])\n",
        "df_final = df_final.fillna(0)\n",
        "\n",
        "df_final.head(20)"
      ]
    },
    {
      "cell_type": "markdown",
      "metadata": {
        "id": "g3qRNvxztox0"
      },
      "source": [
        "### Task 1.2"
      ]
    },
    {
      "cell_type": "code",
      "execution_count": null,
      "metadata": {
        "colab": {
          "base_uri": "https://localhost:8080/",
          "height": 694
        },
        "id": "1vrr9rEhtox0",
        "outputId": "e6568017-c11f-4821-c0fc-467012984d2b"
      },
      "outputs": [
        {
          "output_type": "stream",
          "name": "stdout",
          "text": [
            "Index(['Day', 'StationID', 'fromCNT', 'toCNT', 'rebalCNT'], dtype='object')\n"
          ]
        },
        {
          "output_type": "execute_result",
          "data": {
            "text/plain": [
              "    Month  Station ID  fromCNT  toCNT  rebal\n",
              "0       1      1000.0     23.0   29.0    2.0\n",
              "1       1      1001.0     18.0   27.0    0.0\n",
              "2       1      1002.0     27.0   27.0    3.0\n",
              "3       1      1003.0      2.0    1.0    0.0\n",
              "4       1      1004.0     20.0   16.0    3.0\n",
              "5       1      1005.0      6.0    3.0    0.0\n",
              "6       1      1006.0      8.0    8.0    1.0\n",
              "7       1      1007.0      9.0    7.0    1.0\n",
              "8       1      1009.0      8.0    3.0    0.0\n",
              "9       1      1010.0     47.0   30.0   12.0\n",
              "10      1      1011.0      7.0   17.0    0.0\n",
              "11      1      1012.0     50.0   52.0    2.0\n",
              "12      1      1013.0     26.0   24.0    7.0\n",
              "13      1      1014.0      5.0    2.0    2.0\n",
              "14      1      1015.0     16.0   16.0    2.0\n",
              "15      1      1016.0     21.0   28.0    1.0\n",
              "16      1      1017.0     61.0   70.0    1.0\n",
              "17      1      1018.0     12.0   18.0    0.0\n",
              "18      1      1019.0     18.0   34.0    0.0\n",
              "19      1      1020.0      5.0    5.0    0.0"
            ],
            "text/html": [
              "\n",
              "  <div id=\"df-1a6d7dbe-7809-4dc2-8866-afd6ca3f6759\">\n",
              "    <div class=\"colab-df-container\">\n",
              "      <div>\n",
              "<style scoped>\n",
              "    .dataframe tbody tr th:only-of-type {\n",
              "        vertical-align: middle;\n",
              "    }\n",
              "\n",
              "    .dataframe tbody tr th {\n",
              "        vertical-align: top;\n",
              "    }\n",
              "\n",
              "    .dataframe thead th {\n",
              "        text-align: right;\n",
              "    }\n",
              "</style>\n",
              "<table border=\"1\" class=\"dataframe\">\n",
              "  <thead>\n",
              "    <tr style=\"text-align: right;\">\n",
              "      <th></th>\n",
              "      <th>Month</th>\n",
              "      <th>Station ID</th>\n",
              "      <th>fromCNT</th>\n",
              "      <th>toCNT</th>\n",
              "      <th>rebal</th>\n",
              "    </tr>\n",
              "  </thead>\n",
              "  <tbody>\n",
              "    <tr>\n",
              "      <th>0</th>\n",
              "      <td>1</td>\n",
              "      <td>1000.0</td>\n",
              "      <td>23.0</td>\n",
              "      <td>29.0</td>\n",
              "      <td>2.0</td>\n",
              "    </tr>\n",
              "    <tr>\n",
              "      <th>1</th>\n",
              "      <td>1</td>\n",
              "      <td>1001.0</td>\n",
              "      <td>18.0</td>\n",
              "      <td>27.0</td>\n",
              "      <td>0.0</td>\n",
              "    </tr>\n",
              "    <tr>\n",
              "      <th>2</th>\n",
              "      <td>1</td>\n",
              "      <td>1002.0</td>\n",
              "      <td>27.0</td>\n",
              "      <td>27.0</td>\n",
              "      <td>3.0</td>\n",
              "    </tr>\n",
              "    <tr>\n",
              "      <th>3</th>\n",
              "      <td>1</td>\n",
              "      <td>1003.0</td>\n",
              "      <td>2.0</td>\n",
              "      <td>1.0</td>\n",
              "      <td>0.0</td>\n",
              "    </tr>\n",
              "    <tr>\n",
              "      <th>4</th>\n",
              "      <td>1</td>\n",
              "      <td>1004.0</td>\n",
              "      <td>20.0</td>\n",
              "      <td>16.0</td>\n",
              "      <td>3.0</td>\n",
              "    </tr>\n",
              "    <tr>\n",
              "      <th>5</th>\n",
              "      <td>1</td>\n",
              "      <td>1005.0</td>\n",
              "      <td>6.0</td>\n",
              "      <td>3.0</td>\n",
              "      <td>0.0</td>\n",
              "    </tr>\n",
              "    <tr>\n",
              "      <th>6</th>\n",
              "      <td>1</td>\n",
              "      <td>1006.0</td>\n",
              "      <td>8.0</td>\n",
              "      <td>8.0</td>\n",
              "      <td>1.0</td>\n",
              "    </tr>\n",
              "    <tr>\n",
              "      <th>7</th>\n",
              "      <td>1</td>\n",
              "      <td>1007.0</td>\n",
              "      <td>9.0</td>\n",
              "      <td>7.0</td>\n",
              "      <td>1.0</td>\n",
              "    </tr>\n",
              "    <tr>\n",
              "      <th>8</th>\n",
              "      <td>1</td>\n",
              "      <td>1009.0</td>\n",
              "      <td>8.0</td>\n",
              "      <td>3.0</td>\n",
              "      <td>0.0</td>\n",
              "    </tr>\n",
              "    <tr>\n",
              "      <th>9</th>\n",
              "      <td>1</td>\n",
              "      <td>1010.0</td>\n",
              "      <td>47.0</td>\n",
              "      <td>30.0</td>\n",
              "      <td>12.0</td>\n",
              "    </tr>\n",
              "    <tr>\n",
              "      <th>10</th>\n",
              "      <td>1</td>\n",
              "      <td>1011.0</td>\n",
              "      <td>7.0</td>\n",
              "      <td>17.0</td>\n",
              "      <td>0.0</td>\n",
              "    </tr>\n",
              "    <tr>\n",
              "      <th>11</th>\n",
              "      <td>1</td>\n",
              "      <td>1012.0</td>\n",
              "      <td>50.0</td>\n",
              "      <td>52.0</td>\n",
              "      <td>2.0</td>\n",
              "    </tr>\n",
              "    <tr>\n",
              "      <th>12</th>\n",
              "      <td>1</td>\n",
              "      <td>1013.0</td>\n",
              "      <td>26.0</td>\n",
              "      <td>24.0</td>\n",
              "      <td>7.0</td>\n",
              "    </tr>\n",
              "    <tr>\n",
              "      <th>13</th>\n",
              "      <td>1</td>\n",
              "      <td>1014.0</td>\n",
              "      <td>5.0</td>\n",
              "      <td>2.0</td>\n",
              "      <td>2.0</td>\n",
              "    </tr>\n",
              "    <tr>\n",
              "      <th>14</th>\n",
              "      <td>1</td>\n",
              "      <td>1015.0</td>\n",
              "      <td>16.0</td>\n",
              "      <td>16.0</td>\n",
              "      <td>2.0</td>\n",
              "    </tr>\n",
              "    <tr>\n",
              "      <th>15</th>\n",
              "      <td>1</td>\n",
              "      <td>1016.0</td>\n",
              "      <td>21.0</td>\n",
              "      <td>28.0</td>\n",
              "      <td>1.0</td>\n",
              "    </tr>\n",
              "    <tr>\n",
              "      <th>16</th>\n",
              "      <td>1</td>\n",
              "      <td>1017.0</td>\n",
              "      <td>61.0</td>\n",
              "      <td>70.0</td>\n",
              "      <td>1.0</td>\n",
              "    </tr>\n",
              "    <tr>\n",
              "      <th>17</th>\n",
              "      <td>1</td>\n",
              "      <td>1018.0</td>\n",
              "      <td>12.0</td>\n",
              "      <td>18.0</td>\n",
              "      <td>0.0</td>\n",
              "    </tr>\n",
              "    <tr>\n",
              "      <th>18</th>\n",
              "      <td>1</td>\n",
              "      <td>1019.0</td>\n",
              "      <td>18.0</td>\n",
              "      <td>34.0</td>\n",
              "      <td>0.0</td>\n",
              "    </tr>\n",
              "    <tr>\n",
              "      <th>19</th>\n",
              "      <td>1</td>\n",
              "      <td>1020.0</td>\n",
              "      <td>5.0</td>\n",
              "      <td>5.0</td>\n",
              "      <td>0.0</td>\n",
              "    </tr>\n",
              "  </tbody>\n",
              "</table>\n",
              "</div>\n",
              "      <button class=\"colab-df-convert\" onclick=\"convertToInteractive('df-1a6d7dbe-7809-4dc2-8866-afd6ca3f6759')\"\n",
              "              title=\"Convert this dataframe to an interactive table.\"\n",
              "              style=\"display:none;\">\n",
              "        \n",
              "  <svg xmlns=\"http://www.w3.org/2000/svg\" height=\"24px\"viewBox=\"0 0 24 24\"\n",
              "       width=\"24px\">\n",
              "    <path d=\"M0 0h24v24H0V0z\" fill=\"none\"/>\n",
              "    <path d=\"M18.56 5.44l.94 2.06.94-2.06 2.06-.94-2.06-.94-.94-2.06-.94 2.06-2.06.94zm-11 1L8.5 8.5l.94-2.06 2.06-.94-2.06-.94L8.5 2.5l-.94 2.06-2.06.94zm10 10l.94 2.06.94-2.06 2.06-.94-2.06-.94-.94-2.06-.94 2.06-2.06.94z\"/><path d=\"M17.41 7.96l-1.37-1.37c-.4-.4-.92-.59-1.43-.59-.52 0-1.04.2-1.43.59L10.3 9.45l-7.72 7.72c-.78.78-.78 2.05 0 2.83L4 21.41c.39.39.9.59 1.41.59.51 0 1.02-.2 1.41-.59l7.78-7.78 2.81-2.81c.8-.78.8-2.07 0-2.86zM5.41 20L4 18.59l7.72-7.72 1.47 1.35L5.41 20z\"/>\n",
              "  </svg>\n",
              "      </button>\n",
              "      \n",
              "  <style>\n",
              "    .colab-df-container {\n",
              "      display:flex;\n",
              "      flex-wrap:wrap;\n",
              "      gap: 12px;\n",
              "    }\n",
              "\n",
              "    .colab-df-convert {\n",
              "      background-color: #E8F0FE;\n",
              "      border: none;\n",
              "      border-radius: 50%;\n",
              "      cursor: pointer;\n",
              "      display: none;\n",
              "      fill: #1967D2;\n",
              "      height: 32px;\n",
              "      padding: 0 0 0 0;\n",
              "      width: 32px;\n",
              "    }\n",
              "\n",
              "    .colab-df-convert:hover {\n",
              "      background-color: #E2EBFA;\n",
              "      box-shadow: 0px 1px 2px rgba(60, 64, 67, 0.3), 0px 1px 3px 1px rgba(60, 64, 67, 0.15);\n",
              "      fill: #174EA6;\n",
              "    }\n",
              "\n",
              "    [theme=dark] .colab-df-convert {\n",
              "      background-color: #3B4455;\n",
              "      fill: #D2E3FC;\n",
              "    }\n",
              "\n",
              "    [theme=dark] .colab-df-convert:hover {\n",
              "      background-color: #434B5C;\n",
              "      box-shadow: 0px 1px 3px 1px rgba(0, 0, 0, 0.15);\n",
              "      filter: drop-shadow(0px 1px 2px rgba(0, 0, 0, 0.3));\n",
              "      fill: #FFFFFF;\n",
              "    }\n",
              "  </style>\n",
              "\n",
              "      <script>\n",
              "        const buttonEl =\n",
              "          document.querySelector('#df-1a6d7dbe-7809-4dc2-8866-afd6ca3f6759 button.colab-df-convert');\n",
              "        buttonEl.style.display =\n",
              "          google.colab.kernel.accessAllowed ? 'block' : 'none';\n",
              "\n",
              "        async function convertToInteractive(key) {\n",
              "          const element = document.querySelector('#df-1a6d7dbe-7809-4dc2-8866-afd6ca3f6759');\n",
              "          const dataTable =\n",
              "            await google.colab.kernel.invokeFunction('convertToInteractive',\n",
              "                                                     [key], {});\n",
              "          if (!dataTable) return;\n",
              "\n",
              "          const docLinkHtml = 'Like what you see? Visit the ' +\n",
              "            '<a target=\"_blank\" href=https://colab.research.google.com/notebooks/data_table.ipynb>data table notebook</a>'\n",
              "            + ' to learn more about interactive tables.';\n",
              "          element.innerHTML = '';\n",
              "          dataTable['output_type'] = 'display_data';\n",
              "          await google.colab.output.renderOutput(dataTable, element);\n",
              "          const docLink = document.createElement('div');\n",
              "          docLink.innerHTML = docLinkHtml;\n",
              "          element.appendChild(docLink);\n",
              "        }\n",
              "      </script>\n",
              "    </div>\n",
              "  </div>\n",
              "  "
            ]
          },
          "metadata": {},
          "execution_count": 5
        }
      ],
      "source": [
        "monthly = df_final.copy()\n",
        "print(df_final.keys())\n",
        "monthly = monthly.copy()\n",
        "monthly.columns = ['Month','Station ID',\"fromCNT\",\"toCNT\",'rebal']\n",
        "monthly['Month'] = monthly['Month'].apply(getMonth)\n",
        "\n",
        "monthly = monthly.groupby([\"Month\",\"Station ID\"]).sum().reset_index()\n",
        "\n",
        "monthly.head(20)"
      ]
    },
    {
      "cell_type": "markdown",
      "metadata": {
        "id": "p6TOHJ1stox0"
      },
      "source": [
        "---\n",
        "### Task 2"
      ]
    },
    {
      "cell_type": "markdown",
      "metadata": {
        "id": "tjVSFNjVtox1"
      },
      "source": [
        "In this task you will need to create graphs to show the popularity of the different rental stations, given filter conditions."
      ]
    },
    {
      "cell_type": "code",
      "execution_count": null,
      "metadata": {
        "collapsed": true,
        "id": "XnI5Wb4Jtox1"
      },
      "outputs": [],
      "source": [
        "# FILTER VARIABLES -- feel free to edit the values, but the names of the variables must remain \n",
        "#                     as they are and should be used by your code accordingly from this point on\n",
        "\n",
        "filter_month = 4\n",
        "filter_stationID = 1046\n",
        "num_to_month = {1:['January', 31], 2:['February', 28], 3:['March', 31], 4:['April', 30], \n",
        "                5:['May', 31], 6:['June', 30], 7:['July', 31], 8:['August', 31], 9:['September', 30], \n",
        "                10:['October', 31], 11:['November', 30], 12:['December', 31]}\n"
      ]
    },
    {
      "cell_type": "markdown",
      "metadata": {
        "id": "D_ws9lR2tox1"
      },
      "source": [
        "### Task 2.1"
      ]
    },
    {
      "cell_type": "code",
      "execution_count": null,
      "metadata": {
        "colab": {
          "base_uri": "https://localhost:8080/",
          "height": 326
        },
        "id": "VFd4Z2Hctox1",
        "outputId": "49d306ea-f5fa-416c-9028-ff70f0db199b"
      },
      "outputs": [
        {
          "output_type": "display_data",
          "data": {
            "text/plain": [
              "<Figure size 1008x288 with 1 Axes>"
            ],
            "image/png": "[encoded data removed]"
          },
          "metadata": {
            "needs_background": "light"
          }
        }
      ],
      "source": [
        "df['From Date'] = df['Starttime'].apply(getDate)\n",
        "df['To Date'] = df['Starttime'].apply(getDate)\n",
        "\n",
        "data_small = df[['From Date','From station id', 'Trip id', 'Bikeid', 'To station id', 'To Date']].copy() \n",
        "month = data_small[['From Date','From station id']].copy()\n",
        "\n",
        "month.columns = ['Date','Station ID']\n",
        "month = month.sort_values('Station ID')\n",
        "indexNames = month[month['Station ID'] == 0].index\n",
        "month.drop(indexNames , inplace=True)\n",
        "\n",
        "month['Date'] = month['Date'].apply(getMonth)\n",
        "\n",
        "month = month.loc[month['Date'] == filter_month]\n",
        "month = month['Station ID'].groupby([month['Station ID']]).count()\n",
        "month = month.sort_values(ascending=False)\n",
        "keys = month.keys()\n",
        "counts = month.tolist()\n",
        "\n",
        "a = pd.DataFrame({'Station ID':keys[0:20], 'fromCount per Station':counts[0:20]})\n",
        "p = a.plot.bar(x='Station ID', y='fromCount per Station', title='Number of bike rentals by station for April', figsize=(14,4))"
      ]
    },
    {
      "cell_type": "markdown",
      "metadata": {
        "id": "BnTmiZ51tox1"
      },
      "source": [
        "### Task 2.2"
      ]
    },
    {
      "cell_type": "code",
      "execution_count": null,
      "metadata": {
        "colab": {
          "base_uri": "https://localhost:8080/",
          "height": 298
        },
        "id": "ttvMneS_tox2",
        "outputId": "29da53e7-b768-4b78-ef11-f41d26d99e4e"
      },
      "outputs": [
        {
          "output_type": "display_data",
          "data": {
            "text/plain": [
              "<Figure size 1008x288 with 1 Axes>"
            ],
            "image/png": "[encoded data removed]"
          },
          "metadata": {
            "needs_background": "light"
          }
        }
      ],
      "source": [
        "station = data_small[[\"From Date\", 'From station id']].copy()\n",
        "station.columns = ['Date','Station ID']\n",
        "\n",
        "station['Date'] = station['Date'].apply(getDay)\n",
        "station = station.sort_values('Date')\n",
        "station = station.loc[station['Station ID'] == filter_stationID]\n",
        "station = station['Date'].groupby([station['Date']]).count()\n",
        "keys = station.keys()\n",
        "\n",
        "counts = station.tolist()\n",
        "for i in range(1, num_to_month[filter_month][1] + 1):\n",
        "    if i not in keys:\n",
        "        keys = keys.insert(i - 1, i)\n",
        "        counts.insert(i - 1, 0)\n",
        "\n",
        "df = pd.DataFrame({'Date':keys, 'Count for station 1046 per day':counts})\n",
        "p = df.plot.bar(x='Date', y='Count for station 1046 per day', title='Num of bike rentals from station 1046 for April' , figsize=(14,4))"
      ]
    },
    {
      "cell_type": "markdown",
      "metadata": {
        "id": "ro3KKoistox2"
      },
      "source": [
        "### Task 2.3"
      ]
    },
    {
      "cell_type": "code",
      "execution_count": null,
      "metadata": {
        "colab": {
          "base_uri": "https://localhost:8080/",
          "height": 316
        },
        "id": "y9f6MLaatox2",
        "outputId": "53a7c882-d71b-40a6-ddad-ebfcc1089882"
      },
      "outputs": [
        {
          "output_type": "execute_result",
          "data": {
            "text/plain": [
              "<matplotlib.legend.Legend at 0x7fc310b81f10>"
            ]
          },
          "metadata": {},
          "execution_count": 9
        },
        {
          "output_type": "display_data",
          "data": {
            "text/plain": [
              "<Figure size 1008x288 with 1 Axes>"
            ],
            "image/png": "[encoded data removed]"
          },
          "metadata": {
            "needs_background": "light"
          }
        }
      ],
      "source": [
        "hour =  rebal[['Starttime',\"Starttime\",'From station id']].copy()\n",
        "\n",
        "hour.columns = [\"Month\",'Hour','Station ID']\n",
        "hour[\"Hour\"] = hour[\"Hour\"].apply(getHour)\n",
        "hour['Month'] = hour['Month'].apply(getDate)\n",
        "hour['Month'] = hour['Month'].apply(getMonth)\n",
        "hour = hour.loc[hour['Month'] == filter_month]\n",
        "hour = hour.groupby([hour['Hour']]).count().reset_index()\n",
        "\n",
        "keys = hour.keys()\n",
        "counts = hour.values.tolist()\n",
        "\n",
        "p = hour.plot.bar(x='Hour', y='Station ID', title=\"Number Bike Rentals per Day for April\", figsize=(14,4))\n",
        "p.legend([\"Count\"])\n"
      ]
    },
    {
      "cell_type": "markdown",
      "metadata": {
        "id": "YGoy1Umatox2"
      },
      "source": [
        "### Task 2.4"
      ]
    },
    {
      "cell_type": "code",
      "execution_count": null,
      "metadata": {
        "colab": {
          "base_uri": "https://localhost:8080/",
          "height": 317
        },
        "id": "zHbneEHntox2",
        "outputId": "b04c9e27-6a92-4119-9fe3-72af4b513964"
      },
      "outputs": [
        {
          "output_type": "display_data",
          "data": {
            "text/plain": [
              "<Figure size 1008x288 with 1 Axes>"
            ],
            "image/png": "[encoded data removed]"
          },
          "metadata": {
            "needs_background": "light"
          }
        }
      ],
      "source": [
        "bike = data_small[['From Date','Bikeid']].copy()\n",
        "\n",
        "bike.columns = ['Date','Bikeid']\n",
        "\n",
        "bike['Date'] = bike['Date'].apply(getMonth)\n",
        "\n",
        "bike = bike.loc[bike['Date'] == filter_month]\n",
        "bike = bike.groupby(['Bikeid'])['Bikeid'].count()\n",
        "bike = bike.sort_values(ascending= False)\n",
        "\n",
        "keys = bike.keys()\n",
        "counts = bike.tolist()\n",
        "\n",
        "df = pd.DataFrame({'bikeID':keys[0:20], 'Number of Times Bike Rented':counts[0:20]})\n",
        "p = df.plot.bar(x='bikeID', y='Number of Times Bike Rented', title='20 most popular bikes rented in April', figsize=(14,4))"
      ]
    },
    {
      "cell_type": "markdown",
      "metadata": {
        "id": "AIDcL70Qtox2"
      },
      "source": [
        "---\n",
        "### Task 3"
      ]
    },
    {
      "cell_type": "markdown",
      "metadata": {
        "id": "sIu5Cn0dtox2"
      },
      "source": [
        "In this task you will cluster the data to group similar stations together, using a variety of clustering functions and visualize the results of the clustering."
      ]
    },
    {
      "cell_type": "markdown",
      "metadata": {
        "id": "p5e_MJTjtox3"
      },
      "source": [
        "### Task 3.1"
      ]
    },
    {
      "cell_type": "code",
      "execution_count": 19,
      "metadata": {
        "id": "pGye84lItox3"
      },
      "outputs": [],
      "source": [
        "#I literally can not figure out this method -- I am giving up :? :(\n",
        "#I think I set this problem up correctly but I could not figure out how to complete the graphs \n",
        "#I was able to make the elbow graph off of this set up which I put in task 3.3 \n",
        "sixes = monthly.copy()\n",
        "\n",
        "sixes = sixes.loc[100:600]\n",
        "sixes.drop('toCNT', axis=1, inplace=True)\n",
        "\n",
        "six4 = sixes.loc[400:500]\n",
        "six4.columns = ['Month','Station ID',\"fromCNT4\",\"rebalCNT4\"]\n",
        "\n",
        "six5 = sixes.loc[500:600]\n",
        "six5.columns = ['Month','Station ID',\"fromCNT5\",\"rebalCNT5\"]\n",
        "\n",
        "six6 = sixes.loc[550:650]\n",
        "six6.columns = ['Month','Station ID',\"fromCNT6\",\"rebalCNT6\"]\n",
        "\n",
        "allsixes = six4.merge(six5,how = \"outer\", on = \"Station ID\").merge(six6,how = \"outer\", on =\"Station ID\")\n",
        "allsixes.drop('Month_x', axis=1, inplace=True)\n",
        "allsixes.drop('Month_y', axis=1, inplace=True)\n",
        "allsixes.drop('Month', axis=1, inplace=True)\n",
        "allsixes = allsixes.fillna(0)\n",
        "\n",
        "allsixes = allsixes[['Station ID','fromCNT4', 'fromCNT5', 'fromCNT6', 'rebalCNT4', 'rebalCNT5', 'rebalCNT6']]\n",
        "\n",
        "allsixes.set_index(\"Station ID\")\n",
        "\n",
        "parameters = [1,2,3,4,5,6]\n",
        "for i in range (0, 3):\n",
        "    kmeans = KMeans(n_clusters=parameters[i], init='k-means++', random_state=5000).fit(allsixes)\n"
      ]
    },
    {
      "cell_type": "markdown",
      "metadata": {
        "id": "19Xmpi1Stox3"
      },
      "source": [
        "### Task 3.2"
      ]
    },
    {
      "cell_type": "code",
      "execution_count": 20,
      "metadata": {
        "id": "zahtwoeKtox3"
      },
      "outputs": [],
      "source": [
        "#Could not figure this out"
      ]
    },
    {
      "cell_type": "markdown",
      "metadata": {
        "id": "NLXHY4uqtox3"
      },
      "source": [
        "### Task 3.3"
      ]
    },
    {
      "cell_type": "markdown",
      "metadata": {
        "id": "NAqq0wgwqaot"
      },
      "source": [
        "I could not figure out 3.1 or 3.2 completly, but here is the elbow method graph that I have created. According to the elbow graph, I think the optimal K would be 3 because it is right after or as the graph evens out."
      ]
    },
    {
      "cell_type": "markdown",
      "source": [
        "I completed the elbow graph below. I tried to go to office hours with the professor on thursday, and he suggested I go to the TA office hours on friday, but I went and they were not occurring. Then, I wanted to ask about output because I had to rework task 1.1 and I was not able to get in contact with anyone. :( "
      ],
      "metadata": {
        "id": "MoiRpOUn25R_"
      }
    },
    {
      "cell_type": "code",
      "execution_count": 21,
      "metadata": {
        "id": "bMnispjftox3",
        "colab": {
          "base_uri": "https://localhost:8080/",
          "height": 295
        },
        "outputId": "30bedacf-b2a9-4bec-a66d-7d9a0b8871f0"
      },
      "outputs": [
        {
          "output_type": "display_data",
          "data": {
            "text/plain": [
              "<Figure size 432x288 with 1 Axes>"
            ],
            "image/png": "[encoded data removed]"
          },
          "metadata": {
            "needs_background": "light"
          }
        }
      ],
      "source": [
        "distances = []\n",
        "K = range(1,15)\n",
        "for k in K:\n",
        "    km = KMeans(n_clusters=k,init='k-means++', random_state=5000)\n",
        "    km = km.fit(allsixes)\n",
        "    distances.append(km.inertia_)\n",
        "    \n",
        "plt.plot(K,distances, 'bx-')\n",
        "plt.xlabel('k')\n",
        "plt.ylabel('distances')\n",
        "plt.title('Elbow Method For Optimal k')\n",
        "plt.show()"
      ]
    }
  ],
  "metadata": {
    "anaconda-cloud": {},
    "colab": {
      "collapsed_sections": [],
      "name": "bikes_pgh_data.ipynb",
      "provenance": []
    },
    "kernelspec": {
      "display_name": "Python 3 (ipykernel)",
      "language": "python",
      "name": "python3"
    },
    "language_info": {
      "codemirror_mode": {
        "name": "ipython",
        "version": 3
      },
      "file_extension": ".py",
      "mimetype": "text/x-python",
      "name": "python",
      "nbconvert_exporter": "python",
      "pygments_lexer": "ipython3",
      "version": "3.9.7"
    }
  },
  "nbformat": 4,
  "nbformat_minor": 0
}